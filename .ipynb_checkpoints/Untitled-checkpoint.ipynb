{
 "cells": [
  {
   "cell_type": "code",
   "execution_count": null,
   "id": "0a1da05d-699c-4144-a426-aa778d601d83",
   "metadata": {},
   "outputs": [],
   "source": [
    "import streamlit as st\n",
    "import pandas as pd\n",
    "\n",
    "# Dummy function untuk placeholder API platform.openai.com\n",
    "def dummy_icd_10(diagnosis, symptoms):\n",
    "    # Fungsi ini hanya sebagai placeholder, ganti dengan panggilan API yang sebenarnya.\n",
    "    return \"ICD-10-DUMMY\"\n",
    "\n",
    "# Tampilan utama Streamlit\n",
    "st.title(\"ICD-10 Coding Tool\")\n",
    "\n",
    "# Upload file Excel\n",
    "uploaded_file = st.file_uploader(\"Upload File\", type=[\"xlsx\"])\n",
    "\n",
    "if uploaded_file:\n",
    "    # Membaca file Excel ke dalam DataFrame\n",
    "    df = pd.read_excel(uploaded_file)\n",
    "\n",
    "    # Menampilkan list kolom yang tersedia untuk pilihan\n",
    "    st.subheader(\"List Variabel\")\n",
    "    id_bpjs_col = st.selectbox(\"ID BPJS\", df.columns)\n",
    "    diagnosis_col = st.selectbox(\"Diagnosis\", df.columns)\n",
    "    symptoms_col = st.selectbox(\"Gejala\", df.columns)\n",
    "\n",
    "    # Menampilkan data sesuai dengan kolom yang dipilih\n",
    "    st.subheader(\"Review Data\")\n",
    "    selected_data = df[[id_bpjs_col, diagnosis_col, symptoms_col]].copy()\n",
    "    st.dataframe(selected_data)\n",
    "\n",
    "    # Tombol untuk melakukan coding ICD-10 (saat ini menggunakan dummy)\n",
    "    if st.button(\"Lakukan Coding ICD-10\"):\n",
    "        selected_data['ICD-10'] = selected_data.apply(lambda row: dummy_icd_10(row[diagnosis_col], row[symptoms_col]), axis=1)\n",
    "        \n",
    "        # Tampilkan hasil dengan ICD-10 di tabel bawah\n",
    "        st.subheader(\"Hasil Coding ICD-10\")\n",
    "        st.dataframe(selected_data)\n",
    "\n",
    "        # Tombol untuk download hasil sebagai file Excel\n",
    "        def convert_df_to_excel(df):\n",
    "            return df.to_excel(index=False)\n",
    "        \n",
    "        st.download_button(\n",
    "            label=\"Download\",\n",
    "            data=convert_df_to_excel(selected_data),\n",
    "            file_name=\"hasil_icd_10.xlsx\",\n",
    "            mime=\"application/vnd.openxmlformats-officedocument.spreadsheetml.sheet\"\n",
    "        )\n"
   ]
  }
 ],
 "metadata": {
  "kernelspec": {
   "display_name": "Python 3 (ipykernel)",
   "language": "python",
   "name": "python3"
  },
  "language_info": {
   "codemirror_mode": {
    "name": "ipython",
    "version": 3
   },
   "file_extension": ".py",
   "mimetype": "text/x-python",
   "name": "python",
   "nbconvert_exporter": "python",
   "pygments_lexer": "ipython3",
   "version": "3.11.10"
  }
 },
 "nbformat": 4,
 "nbformat_minor": 5
}
